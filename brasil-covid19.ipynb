{
 "cells": [
  {
   "cell_type": "code",
   "execution_count": 18,
   "metadata": {},
   "outputs": [],
   "source": [
    "import requests as r\n",
    "import datetime as dt\n",
    "import csv\n",
    "from PIL import Image\n",
    "from IPython.display import display"
   ]
  },
  {
   "cell_type": "code",
   "execution_count": 2,
   "metadata": {},
   "outputs": [
    {
     "name": "stdout",
     "output_type": "stream",
     "text": [
      "200\n"
     ]
    }
   ],
   "source": [
    "url = \"https://api.covid19api.com/dayone/country/brazil\"\n",
    "resp = r.get(url)\n",
    "print(resp.status_code)"
   ]
  },
  {
   "cell_type": "code",
   "execution_count": null,
   "metadata": {},
   "outputs": [],
   "source": [
    "raw_data = resp.json()  # converte os dados recebidos no formtado json\n",
    "raw_data[0]"
   ]
  },
  {
   "cell_type": "code",
   "execution_count": 4,
   "metadata": {},
   "outputs": [],
   "source": [
    "final_data = []\n",
    "\n",
    "for obs in raw_data:\n",
    "    final_data.append([obs['Confirmed'], obs['Deaths'], obs['Recovered'], obs['Active'], obs['Date']])\n",
    "\n",
    "final_data.insert(0, ['confirmados', 'obitos', 'recuperados', 'ativos', 'data'])"
   ]
  },
  {
   "cell_type": "code",
   "execution_count": null,
   "metadata": {},
   "outputs": [],
   "source": [
    "final_data"
   ]
  },
  {
   "cell_type": "code",
   "execution_count": 6,
   "metadata": {},
   "outputs": [],
   "source": [
    "CONFIRMADOS = 0\n",
    "OBITOS = 1\n",
    "RECUPERADOS = 2\n",
    "ATIVOS = 3\n",
    "DATA = 4"
   ]
  },
  {
   "cell_type": "code",
   "execution_count": 7,
   "metadata": {},
   "outputs": [],
   "source": [
    "# para mudar os dados no campo DATA, eu preciso pegar cada uma das posições do campo e fazer a alteração\n",
    "# por isso que nós referenciamos com a posição i, na posicao DATA, e fazemos o slice\n",
    "for i in range(1, len(final_data)):\n",
    "    final_data[i][DATA] = final_data[i][DATA][:10]"
   ]
  },
  {
   "cell_type": "code",
   "execution_count": 8,
   "metadata": {},
   "outputs": [],
   "source": [
    "# o calculo da diferença entre duas datas retorna um tipo timedelta, do qual podemos retirar os tempos que queremos"
   ]
  },
  {
   "cell_type": "code",
   "execution_count": 9,
   "metadata": {},
   "outputs": [],
   "source": [
    "with open('brasil-covid.csv', 'w') as file:\n",
    "    writer = csv.writer(file)\n",
    "    writer.writerows(final_data)"
   ]
  },
  {
   "cell_type": "code",
   "execution_count": 10,
   "metadata": {},
   "outputs": [],
   "source": [
    "for i in range(1, len(final_data)):\n",
    "    final_data[i][DATA] = dt.datetime.strptime(final_data[i][DATA], '%Y-%m-%d')"
   ]
  },
  {
   "cell_type": "code",
   "execution_count": null,
   "metadata": {},
   "outputs": [],
   "source": [
    "final_data"
   ]
  },
  {
   "cell_type": "code",
   "execution_count": 19,
   "metadata": {},
   "outputs": [],
   "source": [
    "# REPOSITÓRIO DE FUNCOES\n",
    "\n",
    "# funcao que cria os labels\n",
    "def get_datasets(y, labels):\n",
    "    if type(y[0] == list):\n",
    "        datasets = []  # essa lista vai conter os valores de y e label respectivo de cada um dela\n",
    "\n",
    "        for i in range(len(y)):\n",
    "            datasets.append({\n",
    "                'label': labels[i],\n",
    "                'data': y[i]\n",
    "            })\n",
    "        \n",
    "        return datasets\n",
    "    else:\n",
    "        return [{\n",
    "            'label': labels[0],\n",
    "            'data': y\n",
    "        }]\n",
    "\n",
    "# funcao para definir o titulo do gráfico\n",
    "def set_title(title=''):\n",
    "    if title != '':\n",
    "        display = 'true'\n",
    "    else:\n",
    "        display = 'false'\n",
    "    return {\n",
    "        'title': title,\n",
    "        'display': display\n",
    "    }\n",
    "\n",
    "# funcao que cria o dicionario que representa o gráfico\n",
    "def create_chart(x, y, labels, kind='bar', title=''):\n",
    "\n",
    "    datasets = get_datasets(y, labels)\n",
    "    options = set_title(title)\n",
    "\n",
    "    chart = {\n",
    "        'type': kind,\n",
    "        'data': {\n",
    "            'labels': x,\n",
    "            'datasets': datasets\n",
    "        },\n",
    "        'options': options\n",
    "    }\n",
    "\n",
    "    return chart\n",
    "\n",
    "# retorna o valor binario da imagem\n",
    "def get_api_chart(chart):\n",
    "    url_base = 'https://quickchart.io/chart'\n",
    "    resp = r.get(f'{url_base}?c={str(chart)}')  # essa chamada vai retornar o arquivo de imagem\n",
    "    return resp.content  # content retorna o valor binários\n",
    "\n",
    "\n",
    "# funcao para salvar a imagem\n",
    "def save_image(path, content):\n",
    "    with open(path, 'wb') as image:    # w significa que é modo de escrita, e b significa que está trabalhando com um arquivo binário\n",
    "        image.write(content)\n",
    "\n",
    "\n",
    "# funcao para importar a imagem\n",
    "def display_image(path):\n",
    "    img_pil = Image(path)\n",
    "    display(img_pil)"
   ]
  },
  {
   "cell_type": "code",
   "execution_count": null,
   "metadata": {},
   "outputs": [],
   "source": [
    "y_data_1 = []\n",
    "for obs in final_data[1::10]:  # vai pular o header, e fazer steps de 10 em 10 registros\n",
    "    y_data_1.append(obs[CONFIRMADOS])\n",
    "\n",
    "y_data_2 = []\n",
    "for obs in final_data[1::10]:  # vai pular o header, e fazer steps de 10 em 10 registros\n",
    "    y_data_2.append(obs[RECUPERADOS])\n",
    "\n",
    "labels = ['Confirmados', 'Recuperados']\n",
    "\n",
    "x = []\n",
    "for obs in final_data[1::10]:\n",
    "    x.append(obs[DATA])"
   ]
  }
 ],
 "metadata": {
  "kernelspec": {
   "display_name": "Python 3.7.6 ('venv')",
   "language": "python",
   "name": "python3"
  },
  "language_info": {
   "codemirror_mode": {
    "name": "ipython",
    "version": 3
   },
   "file_extension": ".py",
   "mimetype": "text/x-python",
   "name": "python",
   "nbconvert_exporter": "python",
   "pygments_lexer": "ipython3",
   "version": "3.10.2"
  },
  "orig_nbformat": 4,
  "vscode": {
   "interpreter": {
    "hash": "53c21ae1c3c5da69028944ced3d28a94d6ae722c2fff96fcb752762d95e52b75"
   }
  }
 },
 "nbformat": 4,
 "nbformat_minor": 2
}
